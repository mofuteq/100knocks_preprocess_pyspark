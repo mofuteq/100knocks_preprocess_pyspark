{
 "cells": [
  {
   "cell_type": "markdown",
   "metadata": {},
   "source": [
    "> ライブラリ&データ読み込み"
   ]
  },
  {
   "cell_type": "code",
   "execution_count": null,
   "id": "f22b04f5-86b4-4ff0-acfa-674b582ea8a8",
   "metadata": {},
   "outputs": [],
   "source": [
    "from pyspark.sql import SparkSession\n",
    "from pyspark.sql import functions as F\n",
    "from pyspark.sql import Window\n",
    "\n",
    "spark = SparkSession.builder \\\n",
    "        .appName(\"Data_wrangling\") \\\n",
    "        .getOrCreate()\n",
    "\n",
    "df_customer = spark.read.format(\"csv\") \\\n",
    "    .option(\"inferSchema\", \"True\") \\\n",
    "    .option(\"header\", \"True\") \\\n",
    "    .option(\"sep\", \",\") \\\n",
    "    .load(\"./data/customer.csv\")\n",
    "df_category = spark.read.format(\"csv\") \\\n",
    "    .option(\"inferSchema\", \"True\") \\\n",
    "    .option(\"header\", \"True\") \\\n",
    "    .option(\"sep\", \",\") \\\n",
    "    .load(\"./data/category.csv\")\n",
    "df_product = spark.read.format(\"csv\") \\\n",
    "    .option(\"inferSchema\", \"True\") \\\n",
    "    .option(\"header\", \"True\") \\\n",
    "    .option(\"sep\", \",\") \\\n",
    "    .load(\"./data/product.csv\")\n",
    "df_receipt = spark.read.format(\"csv\") \\\n",
    "    .option(\"inferSchema\", \"True\") \\\n",
    "    .option(\"header\", \"True\") \\\n",
    "    .option(\"sep\", \",\") \\\n",
    "    .load(\"./data/receipt.csv\")\n",
    "df_store = spark.read.format(\"csv\") \\\n",
    "    .option(\"inferSchema\", \"True\") \\\n",
    "    .option(\"header\", \"True\") \\\n",
    "    .option(\"sep\", \",\") \\\n",
    "    .load(\"./data/store.csv\")\n",
    "df_geocode = spark.read.format(\"csv\") \\\n",
    "    .option(\"inferSchema\", \"True\") \\\n",
    "    .option(\"header\", \"True\") \\\n",
    "    .option(\"sep\", \",\") \\\n",
    "    .load(\"./data/geocode.csv\")"
   ]
  },
  {
   "cell_type": "markdown",
   "id": "5f3004bc-60df-4f59-900a-d6d2eb04ff2c",
   "metadata": {},
   "source": [
    " > P-001: レシート明細データ（df_receipt）から全項目の先頭10件を表示し、どのようなデータを保有しているか目視で確認せよ。"
   ]
  },
  {
   "cell_type": "code",
   "execution_count": null,
   "id": "4ea9acb9-398c-437f-b999-e2adbeed4d66",
   "metadata": {},
   "outputs": [],
   "source": [
    "df_receipt.show(10)"
   ]
  },
  {
   "cell_type": "markdown",
   "id": "6a5053e9-8598-48dd-8e5a-ea3380c45239",
   "metadata": {},
   "source": [
    " > P-002: レシート明細データ（df_receipt）から売上年月日（sales_ymd）、顧客ID（customer_id）、商品コード（product_cd）、売上金額（amount）の順に列を指定し、10件表示せよ。"
   ]
  },
  {
   "cell_type": "code",
   "execution_count": null,
   "id": "22897a46-437c-40d6-948c-6fb4faddab99",
   "metadata": {},
   "outputs": [],
   "source": [
    "df_receipt.select(\"sales_ymd\", \"customer_id\", \"product_cd\", \"amount\").show(10)"
   ]
  },
  {
   "cell_type": "markdown",
   "id": "dfbfe721-10c2-451d-a4ab-0c1c0c3dbe48",
   "metadata": {},
   "source": [
    " > P-003: レシート明細データ（df_receipt）から売上年月日（sales_ymd）、顧客ID（customer_id）、商品コード（product_cd）、売上金額（amount）の順に列を指定し、10件表示せよ。ただし、sales_ymdをsales_dateに項目名を変更して抽出すること。"
   ]
  },
  {
   "cell_type": "code",
   "execution_count": null,
   "id": "5874e9ec-307f-4a01-852d-050ec2906467",
   "metadata": {},
   "outputs": [],
   "source": [
    "df_receipt.select(\"sales_ymd\", \"customer_id\", \"product_cd\", \"amount\").withColumnRenamed(\"sales_ymd\", \"sales_date\").show(10)"
   ]
  },
  {
   "cell_type": "markdown",
   "id": "13250251-fd4c-47e1-9d32-0fee2be81466",
   "metadata": {},
   "source": [
    " > P-004: レシート明細データ（df_receipt）から売上日（sales_ymd）、顧客ID（customer_id）、商品コード（product_cd）、売上金額（amount）の順に列を指定し、以下の条件を満たすデータを抽出せよ。\n",
    " > - 顧客ID（customer_id）が\"CS018205000001\""
   ]
  },
  {
   "cell_type": "code",
   "execution_count": null,
   "id": "aacb5b08-9522-4f34-85c5-bb320149e5db",
   "metadata": {},
   "outputs": [],
   "source": [
    "df_receipt.select(\"sales_ymd\", \"customer_id\", \"product_cd\", \"amount\") \\\n",
    "    .filter(F.col(\"customer_id\") == \"CS018205000001\") \\\n",
    "    .show()"
   ]
  },
  {
   "cell_type": "markdown",
   "id": "9d1b9a78-1895-4203-8a4e-a599f8610ab0",
   "metadata": {},
   "source": [
    " > P-005: レシート明細データ（df_receipt）から売上日（sales_ymd）、顧客ID（customer_id）、商品コード（product_cd）、売上金額（amount）の順に列を指定し、以下の全ての条件を満たすデータを抽出せよ。\n",
    " > - 顧客ID（customer_id）が\"CS018205000001\"\n",
    " > - 売上金額（amount）が1,000以上"
   ]
  },
  {
   "cell_type": "code",
   "execution_count": null,
   "id": "59cfcd38-972b-4e9b-b9b7-8565f575c985",
   "metadata": {},
   "outputs": [],
   "source": [
    "df_receipt.select(\"sales_ymd\", \"customer_id\", \"product_cd\", \"amount\") \\\n",
    "    .filter((F.col(\"customer_id\") == \"CS018205000001\") & (F.col(\"amount\")>=1000)) \\\n",
    "    .show()"
   ]
  },
  {
   "cell_type": "markdown",
   "id": "6c20b2ab-c410-493e-993d-e3e55d47f159",
   "metadata": {},
   "source": [
    " > P-006: レシート明細データ（df_receipt）から売上日（sales_ymd）、顧客ID（customer_id）、商品コード（product_cd）、売上数量（quantity）、売上金額（amount）の順に列を指定し、以下の全ての条件を満たすデータを抽出せよ。\n",
    " > - 顧客ID（customer_id）が\"CS018205000001\"\n",
    " > - 売上金額（amount）が1,000以上または売上数量（quantity）が5以上"
   ]
  },
  {
   "cell_type": "code",
   "execution_count": null,
   "id": "34d8152e-ced9-4642-8e3e-b4fedd049c67",
   "metadata": {},
   "outputs": [],
   "source": [
    "df_receipt.select(\"sales_ymd\", \"customer_id\", \"product_cd\", \"quantity\", \"amount\") \\\n",
    "    .filter(F.col(\"customer_id\") == \"CS018205000001\") \\\n",
    "    .filter((F.col(\"amount\")>=1000) | (F.col(\"quantity\") >= 5)) \\\n",
    "    .show()"
   ]
  },
  {
   "cell_type": "markdown",
   "id": "4554f834-33da-49c5-bbc4-6ff28b3c18ac",
   "metadata": {},
   "source": [
    " > P-007: レシート明細データ（df_receipt）から売上日（sales_ymd）、顧客ID（customer_id）、商品コード（product_cd）、売上金額（amount）の順に列を指定し、以下の全ての条件を満たすデータを抽出せよ。\n",
    " > - 顧客ID（customer_id）が\"CS018205000001\"\n",
    " > - 売上金額（amount）が1,000以上2,000以下"
   ]
  },
  {
   "cell_type": "code",
   "execution_count": null,
   "id": "a9fa8152-bfad-41f6-8bd3-92af417b5ec2",
   "metadata": {},
   "outputs": [],
   "source": [
    "df_receipt.select(\"sales_ymd\", \"customer_id\", \"product_cd\", \"amount\") \\\n",
    "    .filter(F.col(\"customer_id\") == \"CS018205000001\") \\\n",
    "    .filter((F.col(\"amount\")>=1000) & (F.col(\"amount\") <= 2000)) \\\n",
    "    .show()"
   ]
  },
  {
   "cell_type": "markdown",
   "id": "107df100-3a3b-42b9-8660-06ecaa793484",
   "metadata": {},
   "source": [
    " > P-008: レシート明細データ（df_receipt）から売上日（sales_ymd）、顧客ID（customer_id）、商品コード（product_cd）、売上金額（amount）の順に列を指定し、以下の全ての条件を満たすデータを抽出せよ。\n",
    " > - 顧客ID（customer_id）が\"CS018205000001\"\n",
    " > - 商品コード（product_cd）が\"P071401019\"以外"
   ]
  },
  {
   "cell_type": "code",
   "execution_count": null,
   "id": "7b99e232-c88e-47fc-986e-ad181ef601ad",
   "metadata": {},
   "outputs": [],
   "source": [
    "df_receipt.select(\"sales_ymd\", \"customer_id\", \"product_cd\", \"amount\") \\\n",
    "    .filter((F.col(\"customer_id\") == \"CS018205000001\") & (F.col(\"product_cd\") != \"P071401019\")) \\\n",
    "    .show()"
   ]
  },
  {
   "cell_type": "markdown",
   "id": "ab0e0573-064f-425f-be6c-685c844cbc5a",
   "metadata": {},
   "source": [
    " > P-009: 以下の処理において、出力結果を変えずにORをANDに書き換えよ。\n",
    " >\n",
    " > `df_store.query('not(prefecture_cd == \"13\" | floor_area > 900)')`"
   ]
  },
  {
   "cell_type": "code",
   "execution_count": null,
   "id": "567a1d68-84dc-49fb-ba1f-747a2d040a63",
   "metadata": {},
   "outputs": [],
   "source": [
    "df_store.filter((F.col(\"prefecture_cd\") != \"13\") & (F.col(\"floor_area\") <= 900)) \\\n",
    "    .show()"
   ]
  },
  {
   "cell_type": "markdown",
   "id": "656ad9cc-a6f5-4087-a1c9-f65d01601813",
   "metadata": {},
   "source": [
    " > P-010: 店舗データ（df_store）から、店舗コード（store_cd）が\"S14\"で始まるものだけ全項目抽出し、10件表示せよ。"
   ]
  },
  {
   "cell_type": "code",
   "execution_count": null,
   "id": "b40aaf68-1253-4d3f-ae20-551ac297fd74",
   "metadata": {},
   "outputs": [],
   "source": [
    "df_store.filter(F.col(\"store_cd\").rlike(\"^S14\")) \\\n",
    "    .show(10)"
   ]
  },
  {
   "cell_type": "markdown",
   "id": "713de858-2b50-4dea-997c-3606249b97b2",
   "metadata": {},
   "source": [
    " > P-011: 顧客データ（df_customer）から顧客ID（customer_id）の末尾が1のものだけ全項目抽出し、10件表示せよ。"
   ]
  },
  {
   "cell_type": "code",
   "execution_count": null,
   "id": "5787723b-7d4a-4aed-ba4b-aafb38727231",
   "metadata": {},
   "outputs": [],
   "source": [
    "df_customer.filter(F.col(\"customer_id\").rlike(\"1$\")) \\\n",
    "    .show(10)"
   ]
  },
  {
   "cell_type": "markdown",
   "id": "51c3bbd0-d3e2-4b7a-aaa6-a567c01874d7",
   "metadata": {},
   "source": [
    " > P-012: 店舗データ（df_store）から、住所 (address) に\"横浜市\"が含まれるものだけ全項目表示せよ。"
   ]
  },
  {
   "cell_type": "code",
   "execution_count": null,
   "id": "81231033-ecd8-4cfb-bc70-79de47de617b",
   "metadata": {},
   "outputs": [],
   "source": [
    "df_store.filter(F.col(\"address\").contains(\"横浜市\")) \\\n",
    "    .show()"
   ]
  },
  {
   "cell_type": "markdown",
   "id": "ed2053e1-3204-4cc9-8b9b-0aea6e047159",
   "metadata": {},
   "source": [
    " > P-013: 顧客データ（df_customer）から、ステータスコード（status_cd）の先頭がアルファベットのA〜Fで始まるデータを全項目抽出し、10件表示せよ。"
   ]
  },
  {
   "cell_type": "code",
   "execution_count": null,
   "id": "33c995e3-b1dc-464c-bdd1-a5dc810b4f25",
   "metadata": {},
   "outputs": [],
   "source": [
    "df_customer.filter(F.col(\"status_cd\").rlike(\"^[A-F]\")) \\\n",
    "    .show(10)"
   ]
  },
  {
   "cell_type": "markdown",
   "id": "7b2cb878-3554-4fae-992f-f20641ef99db",
   "metadata": {},
   "source": [
    " > P-014: 顧客データ（df_customer）から、ステータスコード（status_cd）の末尾が数字の1〜9で終わるデータを全項目抽出し、10件表示せよ。"
   ]
  },
  {
   "cell_type": "code",
   "execution_count": null,
   "id": "1e934303-2c86-44d4-8195-25e284503cc8",
   "metadata": {},
   "outputs": [],
   "source": [
    "df_customer.filter(F.col(\"status_cd\").rlike(\"[1-9]$\")) \\\n",
    "    .show(10)"
   ]
  },
  {
   "cell_type": "markdown",
   "id": "6ad0427f-35e8-480a-aeef-5a364f2cbcbd",
   "metadata": {},
   "source": [
    " > P-015: 顧客データ（df_customer）から、ステータスコード（status_cd）の先頭がアルファベットのA〜Fで始まり、末尾が数字の1〜9で終わるデータを全項目抽出し、10件表示せよ。"
   ]
  },
  {
   "cell_type": "code",
   "execution_count": null,
   "id": "068993d4-68c2-4792-b0cf-d5813acf4542",
   "metadata": {},
   "outputs": [],
   "source": [
    "df_customer.filter((F.col(\"status_cd\").rlike(\"^[A-F]\")) & (F.col(\"status_cd\").rlike(\"[1-9]$\"))) \\\n",
    "    .show(10)"
   ]
  },
  {
   "cell_type": "markdown",
   "id": "a4923a4a-d210-4e15-b2e0-b692f10a5761",
   "metadata": {},
   "source": [
    " > P-016: 店舗データ（df_store）から、電話番号（tel_no）が3桁-3桁-4桁のデータを全項目表示せよ。"
   ]
  },
  {
   "cell_type": "code",
   "execution_count": null,
   "id": "256fa9f4-2cf3-4e19-bc4b-fadce517eedd",
   "metadata": {},
   "outputs": [],
   "source": [
    "df_store.filter(F.col(\"tel_no\").rlike(\"[0-9]{3}-[0-9]{3}-[0-9]{4}\")) \\\n",
    "    .show()"
   ]
  },
  {
   "cell_type": "markdown",
   "id": "e899ef3e-b0f6-4316-b229-672ac9d5bf0d",
   "metadata": {},
   "source": [
    " > P-017: 顧客データ（df_customer）を生年月日（birth_day）で高齢順にソートし、先頭から全項目を10件表示せよ。"
   ]
  },
  {
   "cell_type": "code",
   "execution_count": null,
   "id": "44d02d07-0190-4f90-a109-90c20bd87ddf",
   "metadata": {},
   "outputs": [],
   "source": [
    "df_customer.orderBy(F.asc(\"birth_day\")) \\\n",
    "    .show(10)"
   ]
  },
  {
   "cell_type": "markdown",
   "id": "0a3bf74c-2379-423e-9316-64ed8b438ad5",
   "metadata": {},
   "source": [
    " > P-018: 顧客データ（df_customer）を生年月日（birth_day）で若い順にソートし、先頭から全項目を10件表示せよ。"
   ]
  },
  {
   "cell_type": "code",
   "execution_count": null,
   "id": "ab2a080a-6380-4331-8480-1bf47d49e907",
   "metadata": {},
   "outputs": [],
   "source": [
    "df_customer.orderBy(F.desc(\"birth_day\")) \\\n",
    "    .show(10)"
   ]
  },
  {
   "cell_type": "markdown",
   "id": "55cf5358-708a-431f-bb02-9f4195d01389",
   "metadata": {},
   "source": [
    " > P-019: レシート明細データ（df_receipt）に対し、1件あたりの売上金額（amount）が高い順にランクを付与し、先頭から10件表示せよ。項目は顧客ID（customer_id）、売上金額（amount）、付与したランクを表示させること。なお、売上金額（amount）が等しい場合は同一順位を付与するものとする。"
   ]
  },
  {
   "cell_type": "code",
   "execution_count": null,
   "id": "cbd9fd35-9eb0-4429-a4c3-e951645a03aa",
   "metadata": {},
   "outputs": [],
   "source": [
    "window = Window.partitionBy(\"amount\").orderBy(F.desc(\"amount\"))\n",
    "df_receipt.select(\"customer_id\", \"amount\") \\\n",
    "    .withColumn(\"rank\", F.rank().over(window)) \\\n",
    "    .show(10)"
   ]
  },
  {
   "cell_type": "markdown",
   "id": "6c60f476-707c-425c-996e-0c971b1cac5b",
   "metadata": {},
   "source": [
    " > P-020: レシート明細データ（df_receipt）に対し、1件あたりの売上金額（amount）が高い順にランクを付与し、先頭から10件表示せよ。項目は顧客ID（customer_id）、売上金額（amount）、付与したランクを表示させること。なお、売上金額（amount）が等しい場合でも別順位を付与すること。"
   ]
  },
  {
   "cell_type": "code",
   "execution_count": null,
   "id": "9ffe44c6-3299-4d4b-bc70-53111bbe4462",
   "metadata": {},
   "outputs": [],
   "source": [
    "window = Window.partitionBy(\"amount\").orderBy(F.desc(\"amount\"))\n",
    "df_receipt.select(\"customer_id\", \"amount\") \\\n",
    "    .withColumn(\"rank\", F.row_number().over(window)) \\\n",
    "    .show(10)"
   ]
  },
  {
   "cell_type": "markdown",
   "id": "5bec5102-1e95-48c7-810a-b8a7d1bb4ff4",
   "metadata": {},
   "source": [
    " > P-021: レシート明細データ（df_receipt）に対し、件数をカウントせよ。"
   ]
  },
  {
   "cell_type": "code",
   "execution_count": null,
   "id": "f6dd09db-6521-4f84-bf74-3437b503270b",
   "metadata": {},
   "outputs": [],
   "source": [
    "df_receipt.count()"
   ]
  },
  {
   "cell_type": "markdown",
   "id": "6d7fbd07-9ad7-4309-97d4-0ed5121ac5b9",
   "metadata": {},
   "source": [
    " > P-022: レシート明細データ（df_receipt）の顧客ID（customer_id）に対し、ユニーク件数をカウントせよ。"
   ]
  },
  {
   "cell_type": "code",
   "execution_count": null,
   "id": "f7cf9b8a-8a96-42d3-9aa5-60974f5ef991",
   "metadata": {},
   "outputs": [],
   "source": [
    "df_receipt.select(\"customer_id\") \\\n",
    "    .distinct() \\\n",
    "    .count()"
   ]
  },
  {
   "cell_type": "markdown",
   "id": "ca999cdf-510d-4cf5-ab30-d15507731e8e",
   "metadata": {},
   "source": [
    " > P-023: レシート明細データ（df_receipt）に対し、店舗コード（store_cd）ごとに売上金額（amount）と売上数量（quantity）を合計せよ。"
   ]
  },
  {
   "cell_type": "code",
   "execution_count": null,
   "id": "bc33953f-d966-445b-8859-7cd8ed72961e",
   "metadata": {},
   "outputs": [],
   "source": [
    "df_receipt.groupBy(\"store_cd\") \\\n",
    "    .agg({\"amount\":\"sum\", \"quantity\":\"sum\"}) \\\n",
    "    .show()"
   ]
  },
  {
   "cell_type": "markdown",
   "id": "98f2511e-eca2-41a7-a3f4-df1b77f02a48",
   "metadata": {},
   "source": [
    " > P-024: レシート明細データ（df_receipt）に対し、顧客ID（customer_id）ごとに最も新しい売上年月日（sales_ymd）を求め、10件表示せよ。"
   ]
  },
  {
   "cell_type": "code",
   "execution_count": null,
   "id": "43b4064b-952e-4618-aa00-6f2bb1a089c7",
   "metadata": {},
   "outputs": [],
   "source": [
    "df_receipt.groupBy(\"customer_id\") \\\n",
    "    .agg({\"sales_ymd\": \"max\"}) \\\n",
    "    .show(10)"
   ]
  },
  {
   "cell_type": "markdown",
   "id": "51736c78-9fb4-459a-b265-4775a36d771f",
   "metadata": {},
   "source": [
    " > P-025: レシート明細データ（df_receipt）に対し、顧客ID（customer_id）ごとに最も古い売上年月日（sales_ymd）を求め、10件表示せよ。"
   ]
  },
  {
   "cell_type": "code",
   "execution_count": null,
   "id": "09222eb5-451f-41ec-b457-73d567003c17",
   "metadata": {},
   "outputs": [],
   "source": [
    "df_receipt.groupBy(\"customer_id\") \\\n",
    "    .agg({\"sales_ymd\": \"min\"}) \\\n",
    "    .show(10)"
   ]
  },
  {
   "cell_type": "markdown",
   "id": "811d5913-0b59-458d-81d7-59106bb9cdf3",
   "metadata": {},
   "source": [
    " > P-026: レシート明細データ（df_receipt）に対し、顧客ID（customer_id）ごとに最も新しい売上年月日（sales_ymd）と古い売上年月日を求め、両者が異なるデータを10件表示せよ。"
   ]
  },
  {
   "cell_type": "code",
   "execution_count": null,
   "id": "0bd20003-9592-4622-886a-5ff6f537cd66",
   "metadata": {},
   "outputs": [],
   "source": [
    "df_receipt.groupBy(\"customer_id\") \\\n",
    "    .agg(F.min(\"sales_ymd\"), F.max(\"sales_ymd\")) \\\n",
    "    .filter(F.col(\"min(sales_ymd)\") != F.col(\"max(sales_ymd)\")) \\\n",
    "    .show(10)"
   ]
  },
  {
   "cell_type": "markdown",
   "id": "e8c4e18a-2c23-4dad-9ed0-88a8721c2d02",
   "metadata": {},
   "source": [
    " > P-027: レシート明細データ（df_receipt）に対し、店舗コード（store_cd）ごとに売上金額（amount）の平均を計算し、降順でTOP5を表示せよ。"
   ]
  },
  {
   "cell_type": "code",
   "execution_count": null,
   "id": "ea2c6fd8-ce9d-47a8-85e7-c9ba67dbdbf9",
   "metadata": {},
   "outputs": [],
   "source": [
    "df_receipt.groupBy(\"store_cd\") \\\n",
    "    .agg(F.avg(\"amount\")) \\\n",
    "    .orderBy(F.desc(\"avg(amount)\")) \\\n",
    "    .show(5)"
   ]
  },
  {
   "cell_type": "markdown",
   "id": "078590f5-600e-460b-837c-bfb42bd01afe",
   "metadata": {},
   "source": [
    " > P-028: レシート明細データ（df_receipt）に対し、店舗コード（store_cd）ごとに売上金額（amount）の中央値を計算し、降順でTOP5を表示せよ。"
   ]
  },
  {
   "cell_type": "code",
   "execution_count": null,
   "id": "66f114a3-7d03-4b87-a6ee-c58bbcdd4333",
   "metadata": {},
   "outputs": [],
   "source": [
    "df_receipt.groupBy(\"store_cd\") \\\n",
    "    .agg(F.median(\"amount\")) \\\n",
    "    .orderBy(F.desc(\"median(amount)\")) \\\n",
    "    .show(5)"
   ]
  },
  {
   "cell_type": "markdown",
   "id": "05890b0b-0f39-4545-aff9-3b437adc1348",
   "metadata": {},
   "source": [
    " > P-029: レシート明細データ（df_receipt）に対し、店舗コード（store_cd）ごとに商品コード（product_cd）の最頻値を求め、10件表示させよ。"
   ]
  },
  {
   "cell_type": "code",
   "execution_count": null,
   "id": "5847ba3a-2264-43ef-8408-db139c3cb039",
   "metadata": {},
   "outputs": [],
   "source": [
    "df_receipt.groupBy(\"store_cd\") \\\n",
    "    .agg(F.mode(\"product_cd\")) \\\n",
    "    .show(10)"
   ]
  },
  {
   "cell_type": "markdown",
   "id": "2a9376e2-0de7-4366-bc90-f3141155b15a",
   "metadata": {},
   "source": [
    " > P-030: レシート明細データ（df_receipt）に対し、店舗コード（store_cd）ごとに売上金額（amount）の分散を計算し、降順で5件表示せよ。"
   ]
  },
  {
   "cell_type": "code",
   "execution_count": null,
   "id": "a00a4a19-7f85-41b2-8c0a-0fde7c1ed9ff",
   "metadata": {},
   "outputs": [],
   "source": [
    "df_receipt.groupBy(\"store_cd\") \\\n",
    "    .agg(F.variance(\"amount\")) \\\n",
    "    .orderBy(F.desc(\"var_samp(amount)\")) \\\n",
    "    .show(5)"
   ]
  },
  {
   "cell_type": "markdown",
   "id": "49c6ae0c-7f59-49f5-805f-268b7ae4b704",
   "metadata": {},
   "source": [
    " > P-031: レシート明細データ（df_receipt）に対し、店舗コード（store_cd）ごとに売上金額（amount）の標準偏差を計算し、降順で5件表示せよ。"
   ]
  },
  {
   "cell_type": "code",
   "execution_count": null,
   "id": "3e551f5b-43cd-4cd5-b6a0-31369c463c1d",
   "metadata": {},
   "outputs": [],
   "source": [
    "df_receipt.groupBy(\"store_cd\") \\\n",
    "    .agg(F.stddev(\"amount\")) \\\n",
    "    .orderBy(F.desc(\"stddev(amount)\")) \\\n",
    "    .show(5)"
   ]
  },
  {
   "cell_type": "markdown",
   "id": "97d34ea7-8fb2-46a5-b998-fc2c42fa73ff",
   "metadata": {},
   "source": [
    " > P-032: レシート明細データ（df_receipt）の売上金額（amount）について、25％刻みでパーセンタイル値を求めよ。"
   ]
  },
  {
   "cell_type": "code",
   "execution_count": null,
   "id": "1023065f-83f5-405f-aaea-3ff195ac3313",
   "metadata": {},
   "outputs": [],
   "source": [
    "window = Window.partitionBy(\"amount\").orderBy(F.desc(\"amount\"))\n",
    "df_receipt.select(\"amount\") \\\n",
    "    .withColumn(\"percentile\", F.percentile(\"amount\", [0.0, 0.25, 0.5, 0.75, 1.0]).over(window)) \\\n",
    "    .show(truncate=False)"
   ]
  },
  {
   "cell_type": "markdown",
   "id": "db3f0d6e-0016-425f-8031-77ef1bbb9575",
   "metadata": {},
   "source": [
    " > P-033: レシート明細データ（df_receipt）に対し、店舗コード（store_cd）ごとに売上金額（amount）の平均を計算し、330以上のものを抽出せよ。"
   ]
  },
  {
   "cell_type": "code",
   "execution_count": null,
   "id": "2a9dc39e-c54f-438a-816c-963955368c7f",
   "metadata": {},
   "outputs": [],
   "source": [
    "df_receipt.groupBy(\"store_cd\") \\\n",
    "    .agg(F.avg(\"amount\")) \\\n",
    "    .filter(F.col(\"avg(amount)\") >= 330) \\\n",
    "    .show()"
   ]
  },
  {
   "cell_type": "markdown",
   "id": "2ca83455-b2e1-4f18-99ba-bc4b4b3b6caa",
   "metadata": {},
   "source": [
    " > P-034: レシート明細データ（df_receipt）に対し、顧客ID（customer_id）ごとに売上金額（amount）を合計して全顧客の平均を求めよ。ただし、顧客IDが\"Z\"から始まるものは非会員を表すため、除外して計算すること。"
   ]
  },
  {
   "cell_type": "code",
   "execution_count": null,
   "id": "43178403-b296-4757-ac24-4d9644307626",
   "metadata": {},
   "outputs": [],
   "source": [
    "df_receipt.filter(F.col(\"customer_id\").rlike(\"^(?!Z)\")) \\\n",
    "    .groupBy(\"customer_id\") \\\n",
    "    .agg(F.sum(\"amount\")) \\\n",
    "    .agg(F.avg(\"sum(amount)\"))\\\n",
    "    .show()"
   ]
  },
  {
   "cell_type": "markdown",
   "id": "f7c9bbc5-be92-4cde-bbab-0c409e1c86fc",
   "metadata": {},
   "source": [
    " > P-035: レシート明細データ（df_receipt）に対し、顧客ID（customer_id）ごとに売上金額（amount）を合計して全顧客の平均を求め、平均以上に買い物をしている顧客を抽出し、10件表示せよ。ただし、顧客IDが\"Z\"から始まるものは非会員を表すため、除外して計算すること。"
   ]
  },
  {
   "cell_type": "code",
   "execution_count": null,
   "id": "ad7cbb4f-455d-4284-86ce-adcacf5c2045",
   "metadata": {},
   "outputs": [],
   "source": [
    "avg = df_receipt.filter(F.col(\"customer_id\").rlike(\"^(?!Z)\")).groupBy(\"customer_id\").agg(F.sum(\"amount\")).agg(F.avg(\"sum(amount)\")).first()[0]\n",
    "df_receipt.filter(F.col(\"amount\") >= avg).show(10)"
   ]
  },
  {
   "cell_type": "markdown",
   "id": "bab33445-499a-4982-aebe-64a766047c58",
   "metadata": {},
   "source": [
    " > P-036: レシート明細データ（df_receipt）と店舗データ（df_store）を内部結合し、レシート明細データの全項目と店舗データの店舗名（store_name）を10件表示せよ。"
   ]
  },
  {
   "cell_type": "code",
   "execution_count": null,
   "id": "d96f41af-1178-4d93-a87a-1bb6364eaff7",
   "metadata": {},
   "outputs": [],
   "source": [
    "df_receipt.join(df_store, on=\"store_cd\", how=\"inner\") \\\n",
    "    .select(*df_receipt.columns+[\"store_name\"]) \\\n",
    "    .show(10)"
   ]
  },
  {
   "cell_type": "markdown",
   "id": "61e4829b-ab4b-4980-be51-428cd42d1358",
   "metadata": {},
   "source": [
    " > P-037: 商品データ（df_product）とカテゴリデータ（df_category）を内部結合し、商品データの全項目とカテゴリデータのカテゴリ小区分名（category_small_name）を10件表示せよ。"
   ]
  },
  {
   "cell_type": "code",
   "execution_count": null,
   "id": "24875517-de41-4ca5-ac11-b7af40a006e4",
   "metadata": {},
   "outputs": [],
   "source": [
    "df_product.join(df_category, on=[\"category_major_cd\", \"category_medium_cd\", \"category_small_cd\"], how=\"inner\") \\\n",
    "    .select(*df_product.columns+[\"category_small_name\"]) \\\n",
    "    .show(10)"
   ]
  },
  {
   "cell_type": "markdown",
   "id": "aeda3681-6128-4e1b-bc44-d6f6b136df9b",
   "metadata": {},
   "source": [
    " > P-038: 顧客データ（df_customer）とレシート明細データ（df_receipt）から、顧客ごとの売上金額合計を求め、10件表示せよ。ただし、売上実績がない顧客については売上金額を0として表示させること。また、顧客は性別コード（gender_cd）が女性（1）であるものを対象とし、非会員（顧客IDが\"Z\"から始まるもの）は除外すること。"
   ]
  },
  {
   "cell_type": "code",
   "execution_count": null,
   "id": "1913ade2-df75-4f1d-af41-e6c976b880a2",
   "metadata": {},
   "outputs": [],
   "source": [
    "df_customer.join(df_receipt, on=\"customer_id\", how=\"inner\") \\\n",
    "    .filter((F.col(\"gender_cd\") == 1) & (F.col(\"customer_id\").rlike(\"^(?!Z)\"))) \\\n",
    "    .groupBy(\"customer_id\") \\\n",
    "    .agg(F.sum(\"amount\")) \\\n",
    "    .fillna(0) \\\n",
    "    .show(10)"
   ]
  },
  {
   "cell_type": "markdown",
   "id": "975f296a-0c4f-47ab-b4b2-dee2788303eb",
   "metadata": {},
   "source": [
    " > P-039: レシート明細データ（df_receipt）から、売上日数の多い顧客の上位20件を抽出したデータと、売上金額合計の多い顧客の上位20件を抽出したデータをそれぞれ作成し、さらにその2つを完全外部結合せよ。ただし、非会員（顧客IDが\"Z\"から始まるもの）は除外すること。"
   ]
  },
  {
   "cell_type": "code",
   "execution_count": null,
   "id": "43d38d85-78f2-4198-8bd9-15576135626c",
   "metadata": {},
   "outputs": [],
   "source": [
    "df_sale_date = df_receipt.filter(F.col(\"customer_id\").rlike(\"^(?!Z)\")) \\\n",
    "                .groupBy(\"customer_id\").agg(F.count(\"sales_ymd\")) \\\n",
    "                .orderBy(F.desc(\"count(sales_ymd)\")) \\\n",
    "                .limit(20)\n",
    "df_sale_amount = df_receipt.filter(F.col(\"customer_id\").rlike(\"^(?!Z)\")) \\\n",
    "                .groupBy(\"customer_id\").agg(F.sum(\"amount\")) \\\n",
    "                .orderBy(F.desc(\"sum(amount)\")) \\\n",
    "                .limit(20)\n",
    "df_sale_date.join(df_sale_amount, how=\"outer\", on=\"customer_id\").show()"
   ]
  },
  {
   "cell_type": "markdown",
   "id": "5dc08872-447e-4e6a-a244-03183eb43512",
   "metadata": {},
   "source": [
    " > P-040: 全ての店舗と全ての商品を組み合わせたデータを作成したい。店舗データ（df_store）と商品データ（df_product）を直積し、件数を計算せよ。"
   ]
  },
  {
   "cell_type": "code",
   "execution_count": null,
   "id": "56803f1a-5802-4666-9018-4c90584d3416",
   "metadata": {},
   "outputs": [],
   "source": [
    "df_store.crossJoin(df_product).count()"
   ]
  },
  {
   "cell_type": "markdown",
   "id": "b3b59bcc-09f4-45d6-883f-4518f32ab673",
   "metadata": {},
   "source": [
    " > P-041: レシート明細データ（df_receipt）の売上金額（amount）を日付（sales_ymd）ごとに集計し、前回売上があった日からの売上金額増減を計算せよ。そして結果を10件表示せよ。"
   ]
  },
  {
   "cell_type": "code",
   "execution_count": null,
   "id": "955b4c7d-75a4-4f9f-9026-6a55cc29dc12",
   "metadata": {},
   "outputs": [],
   "source": [
    "window = Window.partitionBy().orderBy(F.asc(\"sales_ymd\"))\n",
    "df_receipt.groupBy(\"sales_ymd\") \\\n",
    "    .agg(F.sum(\"amount\")) \\\n",
    "    .withColumn(\"diff\", F.col(\"sum(amount)\") - F.lag(\"sum(amount)\", 1).over(window)) \\\n",
    "    .show()"
   ]
  }
 ],
 "metadata": {
  "kernelspec": {
   "display_name": ".venv",
   "language": "python",
   "name": "python3"
  },
  "language_info": {
   "codemirror_mode": {
    "name": "ipython",
    "version": 3
   },
   "file_extension": ".py",
   "mimetype": "text/x-python",
   "name": "python",
   "nbconvert_exporter": "python",
   "pygments_lexer": "ipython3",
   "version": "3.13.3"
  }
 },
 "nbformat": 4,
 "nbformat_minor": 2
}
